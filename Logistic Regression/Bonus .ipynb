{
 "cells": [
  {
   "cell_type": "code",
   "execution_count": 1,
   "id": "cb5acaa0",
   "metadata": {},
   "outputs": [],
   "source": [
    "import pandas as pd\n",
    "import numpy as np\n",
    "import matplotlib.pyplot as plt\n",
    "import seaborn as sns\n",
    "from pandas import DataFrame\n",
    "import statsmodels.api as sm"
   ]
  },
  {
   "cell_type": "code",
   "execution_count": 2,
   "id": "d50406a8",
   "metadata": {},
   "outputs": [],
   "source": [
    "df = pd.read_csv(\"Boston.csv\")"
   ]
  },
  {
   "cell_type": "code",
   "execution_count": 3,
   "id": "fb71bd69",
   "metadata": {},
   "outputs": [
    {
     "data": {
      "text/html": [
       "<div>\n",
       "<style scoped>\n",
       "    .dataframe tbody tr th:only-of-type {\n",
       "        vertical-align: middle;\n",
       "    }\n",
       "\n",
       "    .dataframe tbody tr th {\n",
       "        vertical-align: top;\n",
       "    }\n",
       "\n",
       "    .dataframe thead th {\n",
       "        text-align: right;\n",
       "    }\n",
       "</style>\n",
       "<table border=\"1\" class=\"dataframe\">\n",
       "  <thead>\n",
       "    <tr style=\"text-align: right;\">\n",
       "      <th></th>\n",
       "      <th>Unnamed: 0</th>\n",
       "      <th>crim</th>\n",
       "      <th>zn</th>\n",
       "      <th>indus</th>\n",
       "      <th>chas</th>\n",
       "      <th>nox</th>\n",
       "      <th>rm</th>\n",
       "      <th>age</th>\n",
       "      <th>dis</th>\n",
       "      <th>rad</th>\n",
       "      <th>tax</th>\n",
       "      <th>ptratio</th>\n",
       "      <th>black</th>\n",
       "      <th>lstat</th>\n",
       "      <th>medv</th>\n",
       "    </tr>\n",
       "  </thead>\n",
       "  <tbody>\n",
       "    <tr>\n",
       "      <th>0</th>\n",
       "      <td>1</td>\n",
       "      <td>0.00632</td>\n",
       "      <td>18.0</td>\n",
       "      <td>2.31</td>\n",
       "      <td>0</td>\n",
       "      <td>0.538</td>\n",
       "      <td>6.575</td>\n",
       "      <td>65.2</td>\n",
       "      <td>4.0900</td>\n",
       "      <td>1</td>\n",
       "      <td>296</td>\n",
       "      <td>15.3</td>\n",
       "      <td>396.90</td>\n",
       "      <td>4.98</td>\n",
       "      <td>24.0</td>\n",
       "    </tr>\n",
       "    <tr>\n",
       "      <th>1</th>\n",
       "      <td>2</td>\n",
       "      <td>0.02731</td>\n",
       "      <td>0.0</td>\n",
       "      <td>7.07</td>\n",
       "      <td>0</td>\n",
       "      <td>0.469</td>\n",
       "      <td>6.421</td>\n",
       "      <td>78.9</td>\n",
       "      <td>4.9671</td>\n",
       "      <td>2</td>\n",
       "      <td>242</td>\n",
       "      <td>17.8</td>\n",
       "      <td>396.90</td>\n",
       "      <td>9.14</td>\n",
       "      <td>21.6</td>\n",
       "    </tr>\n",
       "    <tr>\n",
       "      <th>2</th>\n",
       "      <td>3</td>\n",
       "      <td>0.02729</td>\n",
       "      <td>0.0</td>\n",
       "      <td>7.07</td>\n",
       "      <td>0</td>\n",
       "      <td>0.469</td>\n",
       "      <td>7.185</td>\n",
       "      <td>61.1</td>\n",
       "      <td>4.9671</td>\n",
       "      <td>2</td>\n",
       "      <td>242</td>\n",
       "      <td>17.8</td>\n",
       "      <td>392.83</td>\n",
       "      <td>4.03</td>\n",
       "      <td>34.7</td>\n",
       "    </tr>\n",
       "    <tr>\n",
       "      <th>3</th>\n",
       "      <td>4</td>\n",
       "      <td>0.03237</td>\n",
       "      <td>0.0</td>\n",
       "      <td>2.18</td>\n",
       "      <td>0</td>\n",
       "      <td>0.458</td>\n",
       "      <td>6.998</td>\n",
       "      <td>45.8</td>\n",
       "      <td>6.0622</td>\n",
       "      <td>3</td>\n",
       "      <td>222</td>\n",
       "      <td>18.7</td>\n",
       "      <td>394.63</td>\n",
       "      <td>2.94</td>\n",
       "      <td>33.4</td>\n",
       "    </tr>\n",
       "    <tr>\n",
       "      <th>4</th>\n",
       "      <td>5</td>\n",
       "      <td>0.06905</td>\n",
       "      <td>0.0</td>\n",
       "      <td>2.18</td>\n",
       "      <td>0</td>\n",
       "      <td>0.458</td>\n",
       "      <td>7.147</td>\n",
       "      <td>54.2</td>\n",
       "      <td>6.0622</td>\n",
       "      <td>3</td>\n",
       "      <td>222</td>\n",
       "      <td>18.7</td>\n",
       "      <td>396.90</td>\n",
       "      <td>5.33</td>\n",
       "      <td>36.2</td>\n",
       "    </tr>\n",
       "    <tr>\n",
       "      <th>...</th>\n",
       "      <td>...</td>\n",
       "      <td>...</td>\n",
       "      <td>...</td>\n",
       "      <td>...</td>\n",
       "      <td>...</td>\n",
       "      <td>...</td>\n",
       "      <td>...</td>\n",
       "      <td>...</td>\n",
       "      <td>...</td>\n",
       "      <td>...</td>\n",
       "      <td>...</td>\n",
       "      <td>...</td>\n",
       "      <td>...</td>\n",
       "      <td>...</td>\n",
       "      <td>...</td>\n",
       "    </tr>\n",
       "    <tr>\n",
       "      <th>501</th>\n",
       "      <td>502</td>\n",
       "      <td>0.06263</td>\n",
       "      <td>0.0</td>\n",
       "      <td>11.93</td>\n",
       "      <td>0</td>\n",
       "      <td>0.573</td>\n",
       "      <td>6.593</td>\n",
       "      <td>69.1</td>\n",
       "      <td>2.4786</td>\n",
       "      <td>1</td>\n",
       "      <td>273</td>\n",
       "      <td>21.0</td>\n",
       "      <td>391.99</td>\n",
       "      <td>9.67</td>\n",
       "      <td>22.4</td>\n",
       "    </tr>\n",
       "    <tr>\n",
       "      <th>502</th>\n",
       "      <td>503</td>\n",
       "      <td>0.04527</td>\n",
       "      <td>0.0</td>\n",
       "      <td>11.93</td>\n",
       "      <td>0</td>\n",
       "      <td>0.573</td>\n",
       "      <td>6.120</td>\n",
       "      <td>76.7</td>\n",
       "      <td>2.2875</td>\n",
       "      <td>1</td>\n",
       "      <td>273</td>\n",
       "      <td>21.0</td>\n",
       "      <td>396.90</td>\n",
       "      <td>9.08</td>\n",
       "      <td>20.6</td>\n",
       "    </tr>\n",
       "    <tr>\n",
       "      <th>503</th>\n",
       "      <td>504</td>\n",
       "      <td>0.06076</td>\n",
       "      <td>0.0</td>\n",
       "      <td>11.93</td>\n",
       "      <td>0</td>\n",
       "      <td>0.573</td>\n",
       "      <td>6.976</td>\n",
       "      <td>91.0</td>\n",
       "      <td>2.1675</td>\n",
       "      <td>1</td>\n",
       "      <td>273</td>\n",
       "      <td>21.0</td>\n",
       "      <td>396.90</td>\n",
       "      <td>5.64</td>\n",
       "      <td>23.9</td>\n",
       "    </tr>\n",
       "    <tr>\n",
       "      <th>504</th>\n",
       "      <td>505</td>\n",
       "      <td>0.10959</td>\n",
       "      <td>0.0</td>\n",
       "      <td>11.93</td>\n",
       "      <td>0</td>\n",
       "      <td>0.573</td>\n",
       "      <td>6.794</td>\n",
       "      <td>89.3</td>\n",
       "      <td>2.3889</td>\n",
       "      <td>1</td>\n",
       "      <td>273</td>\n",
       "      <td>21.0</td>\n",
       "      <td>393.45</td>\n",
       "      <td>6.48</td>\n",
       "      <td>22.0</td>\n",
       "    </tr>\n",
       "    <tr>\n",
       "      <th>505</th>\n",
       "      <td>506</td>\n",
       "      <td>0.04741</td>\n",
       "      <td>0.0</td>\n",
       "      <td>11.93</td>\n",
       "      <td>0</td>\n",
       "      <td>0.573</td>\n",
       "      <td>6.030</td>\n",
       "      <td>80.8</td>\n",
       "      <td>2.5050</td>\n",
       "      <td>1</td>\n",
       "      <td>273</td>\n",
       "      <td>21.0</td>\n",
       "      <td>396.90</td>\n",
       "      <td>7.88</td>\n",
       "      <td>11.9</td>\n",
       "    </tr>\n",
       "  </tbody>\n",
       "</table>\n",
       "<p>506 rows × 15 columns</p>\n",
       "</div>"
      ],
      "text/plain": [
       "     Unnamed: 0     crim    zn  indus  chas    nox     rm   age     dis  rad  \\\n",
       "0             1  0.00632  18.0   2.31     0  0.538  6.575  65.2  4.0900    1   \n",
       "1             2  0.02731   0.0   7.07     0  0.469  6.421  78.9  4.9671    2   \n",
       "2             3  0.02729   0.0   7.07     0  0.469  7.185  61.1  4.9671    2   \n",
       "3             4  0.03237   0.0   2.18     0  0.458  6.998  45.8  6.0622    3   \n",
       "4             5  0.06905   0.0   2.18     0  0.458  7.147  54.2  6.0622    3   \n",
       "..          ...      ...   ...    ...   ...    ...    ...   ...     ...  ...   \n",
       "501         502  0.06263   0.0  11.93     0  0.573  6.593  69.1  2.4786    1   \n",
       "502         503  0.04527   0.0  11.93     0  0.573  6.120  76.7  2.2875    1   \n",
       "503         504  0.06076   0.0  11.93     0  0.573  6.976  91.0  2.1675    1   \n",
       "504         505  0.10959   0.0  11.93     0  0.573  6.794  89.3  2.3889    1   \n",
       "505         506  0.04741   0.0  11.93     0  0.573  6.030  80.8  2.5050    1   \n",
       "\n",
       "     tax  ptratio   black  lstat  medv  \n",
       "0    296     15.3  396.90   4.98  24.0  \n",
       "1    242     17.8  396.90   9.14  21.6  \n",
       "2    242     17.8  392.83   4.03  34.7  \n",
       "3    222     18.7  394.63   2.94  33.4  \n",
       "4    222     18.7  396.90   5.33  36.2  \n",
       "..   ...      ...     ...    ...   ...  \n",
       "501  273     21.0  391.99   9.67  22.4  \n",
       "502  273     21.0  396.90   9.08  20.6  \n",
       "503  273     21.0  396.90   5.64  23.9  \n",
       "504  273     21.0  393.45   6.48  22.0  \n",
       "505  273     21.0  396.90   7.88  11.9  \n",
       "\n",
       "[506 rows x 15 columns]"
      ]
     },
     "execution_count": 3,
     "metadata": {},
     "output_type": "execute_result"
    }
   ],
   "source": [
    "df"
   ]
  },
  {
   "cell_type": "markdown",
   "id": "3de3196e",
   "metadata": {},
   "source": [
    "#### Q1 For each predictor, fita simple linear regression model to predict the response. Describe your results. In which of the models is there a statistically significant association between the predictor and the response? Create some plots to back up your assertions."
   ]
  },
  {
   "cell_type": "code",
   "execution_count": 4,
   "id": "5913ec93",
   "metadata": {},
   "outputs": [],
   "source": [
    "X = df['indus'] \n",
    "Y = df['crim']"
   ]
  },
  {
   "cell_type": "code",
   "execution_count": 5,
   "id": "b759237c",
   "metadata": {},
   "outputs": [
    {
     "name": "stdout",
     "output_type": "stream",
     "text": [
      "                                 OLS Regression Results                                \n",
      "=======================================================================================\n",
      "Dep. Variable:                   crim   R-squared (uncentered):                   0.277\n",
      "Model:                            OLS   Adj. R-squared (uncentered):              0.276\n",
      "Method:                 Least Squares   F-statistic:                              193.7\n",
      "Date:                Fri, 29 Apr 2022   Prob (F-statistic):                    1.65e-37\n",
      "Time:                        21:05:15   Log-Likelihood:                         -1765.4\n",
      "No. Observations:                 506   AIC:                                      3533.\n",
      "Df Residuals:                     505   BIC:                                      3537.\n",
      "Df Model:                           1                                                  \n",
      "Covariance Type:            nonrobust                                                  \n",
      "==============================================================================\n",
      "                 coef    std err          t      P>|t|      [0.025      0.975]\n",
      "------------------------------------------------------------------------------\n",
      "indus          0.3754      0.027     13.919      0.000       0.322       0.428\n",
      "==============================================================================\n",
      "Omnibus:                      600.848   Durbin-Watson:                   0.960\n",
      "Prob(Omnibus):                  0.000   Jarque-Bera (JB):            44123.258\n",
      "Skew:                           5.701   Prob(JB):                         0.00\n",
      "Kurtosis:                      47.303   Cond. No.                         1.00\n",
      "==============================================================================\n",
      "\n",
      "Notes:\n",
      "[1] R² is computed without centering (uncentered) since the model does not contain a constant.\n",
      "[2] Standard Errors assume that the covariance matrix of the errors is correctly specified.\n"
     ]
    }
   ],
   "source": [
    "model = sm.OLS(Y, X).fit()\n",
    "predictions = model.predict(X) \n",
    "\n",
    "print_model = model.summary()\n",
    "print(print_model)\n"
   ]
  },
  {
   "cell_type": "code",
   "execution_count": 6,
   "id": "d81ff09b",
   "metadata": {},
   "outputs": [],
   "source": [
    "X = df['chas'] \n",
    "Y = df['crim']"
   ]
  },
  {
   "cell_type": "code",
   "execution_count": 7,
   "id": "e5e395ed",
   "metadata": {},
   "outputs": [
    {
     "name": "stdout",
     "output_type": "stream",
     "text": [
      "                                 OLS Regression Results                                \n",
      "=======================================================================================\n",
      "Dep. Variable:                   crim   R-squared (uncentered):                   0.003\n",
      "Model:                            OLS   Adj. R-squared (uncentered):              0.001\n",
      "Method:                 Least Squares   F-statistic:                              1.382\n",
      "Date:                Fri, 29 Apr 2022   Prob (F-statistic):                       0.240\n",
      "Time:                        21:05:15   Log-Likelihood:                         -1846.9\n",
      "No. Observations:                 506   AIC:                                      3696.\n",
      "Df Residuals:                     505   BIC:                                      3700.\n",
      "Df Model:                           1                                                  \n",
      "Covariance Type:            nonrobust                                                  \n",
      "==============================================================================\n",
      "                 coef    std err          t      P>|t|      [0.025      0.975]\n",
      "------------------------------------------------------------------------------\n",
      "chas           1.8517      1.575      1.176      0.240      -1.243       4.946\n",
      "==============================================================================\n",
      "Omnibus:                      560.167   Durbin-Watson:                   0.694\n",
      "Prob(Omnibus):                  0.000   Jarque-Bera (JB):            30113.987\n",
      "Skew:                           5.174   Prob(JB):                         0.00\n",
      "Kurtosis:                      39.349   Cond. No.                         1.00\n",
      "==============================================================================\n",
      "\n",
      "Notes:\n",
      "[1] R² is computed without centering (uncentered) since the model does not contain a constant.\n",
      "[2] Standard Errors assume that the covariance matrix of the errors is correctly specified.\n"
     ]
    }
   ],
   "source": [
    "model = sm.OLS(Y, X).fit()\n",
    "predictions = model.predict(X) \n",
    "\n",
    "print_model = model.summary()\n",
    "print(print_model)"
   ]
  },
  {
   "cell_type": "code",
   "execution_count": 8,
   "id": "bc14b32f",
   "metadata": {},
   "outputs": [],
   "source": [
    "X = df['nox'] \n",
    "Y = df['crim']"
   ]
  },
  {
   "cell_type": "code",
   "execution_count": 9,
   "id": "c547c1c6",
   "metadata": {},
   "outputs": [
    {
     "name": "stdout",
     "output_type": "stream",
     "text": [
      "                                 OLS Regression Results                                \n",
      "=======================================================================================\n",
      "Dep. Variable:                   crim   R-squared (uncentered):                   0.210\n",
      "Model:                            OLS   Adj. R-squared (uncentered):              0.209\n",
      "Method:                 Least Squares   F-statistic:                              134.6\n",
      "Date:                Fri, 29 Apr 2022   Prob (F-statistic):                    9.43e-28\n",
      "Time:                        21:05:15   Log-Likelihood:                         -1787.8\n",
      "No. Observations:                 506   AIC:                                      3578.\n",
      "Df Residuals:                     505   BIC:                                      3582.\n",
      "Df Model:                           1                                                  \n",
      "Covariance Type:            nonrobust                                                  \n",
      "==============================================================================\n",
      "                 coef    std err          t      P>|t|      [0.025      0.975]\n",
      "------------------------------------------------------------------------------\n",
      "nox            7.5467      0.650     11.602      0.000       6.269       8.825\n",
      "==============================================================================\n",
      "Omnibus:                      589.104   Durbin-Watson:                   0.870\n",
      "Prob(Omnibus):                  0.000   Jarque-Bera (JB):            38022.804\n",
      "Skew:                           5.566   Prob(JB):                         0.00\n",
      "Kurtosis:                      43.982   Cond. No.                         1.00\n",
      "==============================================================================\n",
      "\n",
      "Notes:\n",
      "[1] R² is computed without centering (uncentered) since the model does not contain a constant.\n",
      "[2] Standard Errors assume that the covariance matrix of the errors is correctly specified.\n"
     ]
    }
   ],
   "source": [
    "model = sm.OLS(Y, X).fit()\n",
    "predictions = model.predict(X) \n",
    "\n",
    "print_model = model.summary()\n",
    "print(print_model)"
   ]
  },
  {
   "cell_type": "code",
   "execution_count": 10,
   "id": "ea92cb56",
   "metadata": {},
   "outputs": [],
   "source": [
    "X = df['rm'] \n",
    "Y = df['crim']"
   ]
  },
  {
   "cell_type": "code",
   "execution_count": 11,
   "id": "096cad73",
   "metadata": {},
   "outputs": [
    {
     "name": "stdout",
     "output_type": "stream",
     "text": [
      "                                 OLS Regression Results                                \n",
      "=======================================================================================\n",
      "Dep. Variable:                   crim   R-squared (uncentered):                   0.132\n",
      "Model:                            OLS   Adj. R-squared (uncentered):              0.130\n",
      "Method:                 Least Squares   F-statistic:                              76.55\n",
      "Date:                Fri, 29 Apr 2022   Prob (F-statistic):                    3.22e-17\n",
      "Time:                        21:05:15   Log-Likelihood:                         -1811.9\n",
      "No. Observations:                 506   AIC:                                      3626.\n",
      "Df Residuals:                     505   BIC:                                      3630.\n",
      "Df Model:                           1                                                  \n",
      "Covariance Type:            nonrobust                                                  \n",
      "==============================================================================\n",
      "                 coef    std err          t      P>|t|      [0.025      0.975]\n",
      "------------------------------------------------------------------------------\n",
      "rm             0.5348      0.061      8.749      0.000       0.415       0.655\n",
      "==============================================================================\n",
      "Omnibus:                      554.302   Durbin-Watson:                   0.800\n",
      "Prob(Omnibus):                  0.000   Jarque-Bera (JB):            28479.285\n",
      "Skew:                           5.101   Prob(JB):                         0.00\n",
      "Kurtosis:                      38.309   Cond. No.                         1.00\n",
      "==============================================================================\n",
      "\n",
      "Notes:\n",
      "[1] R² is computed without centering (uncentered) since the model does not contain a constant.\n",
      "[2] Standard Errors assume that the covariance matrix of the errors is correctly specified.\n"
     ]
    }
   ],
   "source": [
    "model = sm.OLS(Y, X).fit()\n",
    "predictions = model.predict(X) \n",
    "\n",
    "print_model = model.summary()\n",
    "print(print_model)"
   ]
  },
  {
   "cell_type": "code",
   "execution_count": 12,
   "id": "25dfd5fb",
   "metadata": {},
   "outputs": [],
   "source": [
    "X = df['age'] \n",
    "Y = df['crim']"
   ]
  },
  {
   "cell_type": "code",
   "execution_count": 13,
   "id": "5ccf0f36",
   "metadata": {},
   "outputs": [
    {
     "name": "stdout",
     "output_type": "stream",
     "text": [
      "                                 OLS Regression Results                                \n",
      "=======================================================================================\n",
      "Dep. Variable:                   crim   R-squared (uncentered):                   0.232\n",
      "Model:                            OLS   Adj. R-squared (uncentered):              0.231\n",
      "Method:                 Least Squares   F-statistic:                              152.8\n",
      "Date:                Fri, 29 Apr 2022   Prob (F-statistic):                    7.39e-31\n",
      "Time:                        21:05:15   Log-Likelihood:                         -1780.7\n",
      "No. Observations:                 506   AIC:                                      3563.\n",
      "Df Residuals:                     505   BIC:                                      3568.\n",
      "Df Model:                           1                                                  \n",
      "Covariance Type:            nonrobust                                                  \n",
      "==============================================================================\n",
      "                 coef    std err          t      P>|t|      [0.025      0.975]\n",
      "------------------------------------------------------------------------------\n",
      "age            0.0606      0.005     12.363      0.000       0.051       0.070\n",
      "==============================================================================\n",
      "Omnibus:                      588.282   Durbin-Watson:                   0.901\n",
      "Prob(Omnibus):                  0.000   Jarque-Bera (JB):            38772.874\n",
      "Skew:                           5.540   Prob(JB):                         0.00\n",
      "Kurtosis:                      44.428   Cond. No.                         1.00\n",
      "==============================================================================\n",
      "\n",
      "Notes:\n",
      "[1] R² is computed without centering (uncentered) since the model does not contain a constant.\n",
      "[2] Standard Errors assume that the covariance matrix of the errors is correctly specified.\n"
     ]
    }
   ],
   "source": [
    "model = sm.OLS(Y, X).fit()\n",
    "predictions = model.predict(X) \n",
    "\n",
    "print_model = model.summary()\n",
    "print(print_model)"
   ]
  },
  {
   "cell_type": "code",
   "execution_count": 14,
   "id": "0dbb294d",
   "metadata": {},
   "outputs": [],
   "source": [
    "X = df['dis'] \n",
    "Y = df['crim']"
   ]
  },
  {
   "cell_type": "code",
   "execution_count": 15,
   "id": "92ac81f9",
   "metadata": {},
   "outputs": [
    {
     "name": "stdout",
     "output_type": "stream",
     "text": [
      "                                 OLS Regression Results                                \n",
      "=======================================================================================\n",
      "Dep. Variable:                   crim   R-squared (uncentered):                   0.029\n",
      "Model:                            OLS   Adj. R-squared (uncentered):              0.027\n",
      "Method:                 Least Squares   F-statistic:                              14.91\n",
      "Date:                Fri, 29 Apr 2022   Prob (F-statistic):                    0.000127\n",
      "Time:                        21:05:15   Log-Likelihood:                         -1840.2\n",
      "No. Observations:                 506   AIC:                                      3682.\n",
      "Df Residuals:                     505   BIC:                                      3687.\n",
      "Df Model:                           1                                                  \n",
      "Covariance Type:            nonrobust                                                  \n",
      "==============================================================================\n",
      "                 coef    std err          t      P>|t|      [0.025      0.975]\n",
      "------------------------------------------------------------------------------\n",
      "dis            0.3638      0.094      3.862      0.000       0.179       0.549\n",
      "==============================================================================\n",
      "Omnibus:                      537.672   Durbin-Watson:                   0.712\n",
      "Prob(Omnibus):                  0.000   Jarque-Bera (JB):            25177.104\n",
      "Skew:                           4.881   Prob(JB):                         0.00\n",
      "Kurtosis:                      36.149   Cond. No.                         1.00\n",
      "==============================================================================\n",
      "\n",
      "Notes:\n",
      "[1] R² is computed without centering (uncentered) since the model does not contain a constant.\n",
      "[2] Standard Errors assume that the covariance matrix of the errors is correctly specified.\n"
     ]
    }
   ],
   "source": [
    "model = sm.OLS(Y, X).fit()\n",
    "predictions = model.predict(X) \n",
    "\n",
    "print_model = model.summary()\n",
    "print(print_model)"
   ]
  },
  {
   "cell_type": "code",
   "execution_count": 16,
   "id": "88a0a55a",
   "metadata": {},
   "outputs": [],
   "source": [
    "X = df['rad'] \n",
    "Y = df['crim']"
   ]
  },
  {
   "cell_type": "code",
   "execution_count": 17,
   "id": "9045dcd0",
   "metadata": {},
   "outputs": [
    {
     "name": "stdout",
     "output_type": "stream",
     "text": [
      "                                 OLS Regression Results                                \n",
      "=======================================================================================\n",
      "Dep. Variable:                   crim   R-squared (uncentered):                   0.455\n",
      "Model:                            OLS   Adj. R-squared (uncentered):              0.454\n",
      "Method:                 Least Squares   F-statistic:                              422.3\n",
      "Date:                Fri, 29 Apr 2022   Prob (F-statistic):                    1.18e-68\n",
      "Time:                        21:05:16   Log-Likelihood:                         -1693.8\n",
      "No. Observations:                 506   AIC:                                      3390.\n",
      "Df Residuals:                     505   BIC:                                      3394.\n",
      "Df Model:                           1                                                  \n",
      "Covariance Type:            nonrobust                                                  \n",
      "==============================================================================\n",
      "                 coef    std err          t      P>|t|      [0.025      0.975]\n",
      "------------------------------------------------------------------------------\n",
      "rad            0.4870      0.024     20.551      0.000       0.440       0.534\n",
      "==============================================================================\n",
      "Omnibus:                      685.991   Durbin-Watson:                   1.266\n",
      "Prob(Omnibus):                  0.000   Jarque-Bera (JB):            86092.313\n",
      "Skew:                           7.005   Prob(JB):                         0.00\n",
      "Kurtosis:                      65.347   Cond. No.                         1.00\n",
      "==============================================================================\n",
      "\n",
      "Notes:\n",
      "[1] R² is computed without centering (uncentered) since the model does not contain a constant.\n",
      "[2] Standard Errors assume that the covariance matrix of the errors is correctly specified.\n"
     ]
    }
   ],
   "source": [
    "model = sm.OLS(Y, X).fit()\n",
    "predictions = model.predict(X) \n",
    "\n",
    "print_model = model.summary()\n",
    "print(print_model)"
   ]
  },
  {
   "cell_type": "code",
   "execution_count": 18,
   "id": "230ad3e5",
   "metadata": {},
   "outputs": [],
   "source": [
    "X = df['tax'] \n",
    "Y = df['crim']"
   ]
  },
  {
   "cell_type": "code",
   "execution_count": 19,
   "id": "2a9d655d",
   "metadata": {},
   "outputs": [
    {
     "name": "stdout",
     "output_type": "stream",
     "text": [
      "                                 OLS Regression Results                                \n",
      "=======================================================================================\n",
      "Dep. Variable:                   crim   R-squared (uncentered):                   0.317\n",
      "Model:                            OLS   Adj. R-squared (uncentered):              0.316\n",
      "Method:                 Least Squares   F-statistic:                              234.6\n",
      "Date:                Fri, 29 Apr 2022   Prob (F-statistic):                    9.15e-44\n",
      "Time:                        21:05:16   Log-Likelihood:                         -1751.0\n",
      "No. Observations:                 506   AIC:                                      3504.\n",
      "Df Residuals:                     505   BIC:                                      3508.\n",
      "Df Model:                           1                                                  \n",
      "Covariance Type:            nonrobust                                                  \n",
      "==============================================================================\n",
      "                 coef    std err          t      P>|t|      [0.025      0.975]\n",
      "------------------------------------------------------------------------------\n",
      "tax            0.0119      0.001     15.316      0.000       0.010       0.013\n",
      "==============================================================================\n",
      "Omnibus:                      640.450   Durbin-Watson:                   1.011\n",
      "Prob(Omnibus):                  0.000   Jarque-Bera (JB):            57507.731\n",
      "Skew:                           6.310   Prob(JB):                         0.00\n",
      "Kurtosis:                      53.679   Cond. No.                         1.00\n",
      "==============================================================================\n",
      "\n",
      "Notes:\n",
      "[1] R² is computed without centering (uncentered) since the model does not contain a constant.\n",
      "[2] Standard Errors assume that the covariance matrix of the errors is correctly specified.\n"
     ]
    }
   ],
   "source": [
    "model = sm.OLS(Y, X).fit()\n",
    "predictions = model.predict(X) \n",
    "\n",
    "print_model = model.summary()\n",
    "print(print_model)"
   ]
  },
  {
   "cell_type": "code",
   "execution_count": 20,
   "id": "812f2e64",
   "metadata": {},
   "outputs": [],
   "source": [
    "X = df['ptratio'] \n",
    "Y = df['crim']"
   ]
  },
  {
   "cell_type": "code",
   "execution_count": 21,
   "id": "7c62c137",
   "metadata": {},
   "outputs": [
    {
     "name": "stdout",
     "output_type": "stream",
     "text": [
      "                                 OLS Regression Results                                \n",
      "=======================================================================================\n",
      "Dep. Variable:                   crim   R-squared (uncentered):                   0.173\n",
      "Model:                            OLS   Adj. R-squared (uncentered):              0.172\n",
      "Method:                 Least Squares   F-statistic:                              105.8\n",
      "Date:                Fri, 29 Apr 2022   Prob (F-statistic):                    1.19e-22\n",
      "Time:                        21:05:16   Log-Likelihood:                         -1799.5\n",
      "No. Observations:                 506   AIC:                                      3601.\n",
      "Df Residuals:                     505   BIC:                                      3605.\n",
      "Df Model:                           1                                                  \n",
      "Covariance Type:            nonrobust                                                  \n",
      "==============================================================================\n",
      "                 coef    std err          t      P>|t|      [0.025      0.975]\n",
      "------------------------------------------------------------------------------\n",
      "ptratio        0.2088      0.020     10.284      0.000       0.169       0.249\n",
      "==============================================================================\n",
      "Omnibus:                      571.064   Durbin-Watson:                   0.834\n",
      "Prob(Omnibus):                  0.000   Jarque-Bera (JB):            33019.089\n",
      "Skew:                           5.317   Prob(JB):                         0.00\n",
      "Kurtosis:                      41.119   Cond. No.                         1.00\n",
      "==============================================================================\n",
      "\n",
      "Notes:\n",
      "[1] R² is computed without centering (uncentered) since the model does not contain a constant.\n",
      "[2] Standard Errors assume that the covariance matrix of the errors is correctly specified.\n"
     ]
    }
   ],
   "source": [
    "model = sm.OLS(Y, X).fit()\n",
    "predictions = model.predict(X) \n",
    "\n",
    "print_model = model.summary()\n",
    "print(print_model)"
   ]
  },
  {
   "cell_type": "code",
   "execution_count": 22,
   "id": "3ad37a2b",
   "metadata": {},
   "outputs": [],
   "source": [
    "X = df['black'] \n",
    "Y = df['crim']"
   ]
  },
  {
   "cell_type": "code",
   "execution_count": 23,
   "id": "f8166781",
   "metadata": {},
   "outputs": [
    {
     "name": "stdout",
     "output_type": "stream",
     "text": [
      "                                 OLS Regression Results                                \n",
      "=======================================================================================\n",
      "Dep. Variable:                   crim   R-squared (uncentered):                   0.083\n",
      "Model:                            OLS   Adj. R-squared (uncentered):              0.081\n",
      "Method:                 Least Squares   F-statistic:                              45.54\n",
      "Date:                Fri, 29 Apr 2022   Prob (F-statistic):                    4.11e-11\n",
      "Time:                        21:05:16   Log-Likelihood:                         -1825.7\n",
      "No. Observations:                 506   AIC:                                      3653.\n",
      "Df Residuals:                     505   BIC:                                      3658.\n",
      "Df Model:                           1                                                  \n",
      "Covariance Type:            nonrobust                                                  \n",
      "==============================================================================\n",
      "                 coef    std err          t      P>|t|      [0.025      0.975]\n",
      "------------------------------------------------------------------------------\n",
      "black          0.0073      0.001      6.749      0.000       0.005       0.009\n",
      "==============================================================================\n",
      "Omnibus:                      543.758   Durbin-Watson:                   0.762\n",
      "Prob(Omnibus):                  0.000   Jarque-Bera (JB):            26005.335\n",
      "Skew:                           4.967   Prob(JB):                         0.00\n",
      "Kurtosis:                      36.686   Cond. No.                         1.00\n",
      "==============================================================================\n",
      "\n",
      "Notes:\n",
      "[1] R² is computed without centering (uncentered) since the model does not contain a constant.\n",
      "[2] Standard Errors assume that the covariance matrix of the errors is correctly specified.\n"
     ]
    }
   ],
   "source": [
    "model = sm.OLS(Y, X).fit()\n",
    "predictions = model.predict(X) \n",
    "\n",
    "print_model = model.summary()\n",
    "print(print_model)\n"
   ]
  },
  {
   "cell_type": "code",
   "execution_count": 24,
   "id": "272f3524",
   "metadata": {},
   "outputs": [],
   "source": [
    "X = df['lstat'] \n",
    "Y = df['crim']"
   ]
  },
  {
   "cell_type": "code",
   "execution_count": 25,
   "id": "bead9e90",
   "metadata": {},
   "outputs": [
    {
     "name": "stdout",
     "output_type": "stream",
     "text": [
      "                                 OLS Regression Results                                \n",
      "=======================================================================================\n",
      "Dep. Variable:                   crim   R-squared (uncentered):                   0.296\n",
      "Model:                            OLS   Adj. R-squared (uncentered):              0.294\n",
      "Method:                 Least Squares   F-statistic:                              212.2\n",
      "Date:                Fri, 29 Apr 2022   Prob (F-statistic):                    2.21e-40\n",
      "Time:                        21:05:16   Log-Likelihood:                         -1758.8\n",
      "No. Observations:                 506   AIC:                                      3520.\n",
      "Df Residuals:                     505   BIC:                                      3524.\n",
      "Df Model:                           1                                                  \n",
      "Covariance Type:            nonrobust                                                  \n",
      "==============================================================================\n",
      "                 coef    std err          t      P>|t|      [0.025      0.975]\n",
      "------------------------------------------------------------------------------\n",
      "lstat          0.3491      0.024     14.567      0.000       0.302       0.396\n",
      "==============================================================================\n",
      "Omnibus:                      616.057   Durbin-Watson:                   1.044\n",
      "Prob(Omnibus):                  0.000   Jarque-Bera (JB):            50968.492\n",
      "Skew:                           5.907   Prob(JB):                         0.00\n",
      "Kurtosis:                      50.727   Cond. No.                         1.00\n",
      "==============================================================================\n",
      "\n",
      "Notes:\n",
      "[1] R² is computed without centering (uncentered) since the model does not contain a constant.\n",
      "[2] Standard Errors assume that the covariance matrix of the errors is correctly specified.\n"
     ]
    }
   ],
   "source": [
    "model = sm.OLS(Y, X).fit()\n",
    "predictions = model.predict(X) \n",
    "\n",
    "print_model = model.summary()\n",
    "print(print_model)"
   ]
  },
  {
   "cell_type": "code",
   "execution_count": 26,
   "id": "37fd7e7b",
   "metadata": {},
   "outputs": [],
   "source": [
    "X = df['medv'] \n",
    "Y = df['crim']"
   ]
  },
  {
   "cell_type": "code",
   "execution_count": 27,
   "id": "e37ce216",
   "metadata": {},
   "outputs": [
    {
     "name": "stdout",
     "output_type": "stream",
     "text": [
      "                                 OLS Regression Results                                \n",
      "=======================================================================================\n",
      "Dep. Variable:                   crim   R-squared (uncentered):                   0.050\n",
      "Model:                            OLS   Adj. R-squared (uncentered):              0.048\n",
      "Method:                 Least Squares   F-statistic:                              26.63\n",
      "Date:                Fri, 29 Apr 2022   Prob (F-statistic):                    3.56e-07\n",
      "Time:                        21:05:16   Log-Likelihood:                         -1834.6\n",
      "No. Observations:                 506   AIC:                                      3671.\n",
      "Df Residuals:                     505   BIC:                                      3675.\n",
      "Df Model:                           1                                                  \n",
      "Covariance Type:            nonrobust                                                  \n",
      "==============================================================================\n",
      "                 coef    std err          t      P>|t|      [0.025      0.975]\n",
      "------------------------------------------------------------------------------\n",
      "medv           0.0857      0.017      5.160      0.000       0.053       0.118\n",
      "==============================================================================\n",
      "Omnibus:                      541.947   Durbin-Watson:                   0.739\n",
      "Prob(Omnibus):                  0.000   Jarque-Bera (JB):            25828.961\n",
      "Skew:                           4.940   Prob(JB):                         0.00\n",
      "Kurtosis:                      36.578   Cond. No.                         1.00\n",
      "==============================================================================\n",
      "\n",
      "Notes:\n",
      "[1] R² is computed without centering (uncentered) since the model does not contain a constant.\n",
      "[2] Standard Errors assume that the covariance matrix of the errors is correctly specified.\n"
     ]
    }
   ],
   "source": [
    "model = sm.OLS(Y, X).fit()\n",
    "predictions = model.predict(X) \n",
    "\n",
    "print_model = model.summary()\n",
    "print(print_model)"
   ]
  },
  {
   "cell_type": "code",
   "execution_count": 28,
   "id": "2e73b615",
   "metadata": {},
   "outputs": [
    {
     "data": {
      "image/png": "[encoded data removed]",
      "text/plain": [
       "<Figure size 720x360 with 2 Axes>"
      ]
     },
     "metadata": {
      "needs_background": "light"
     },
     "output_type": "display_data"
    }
   ],
   "source": [
    "fig, ax = plt.subplots(figsize = (10,5))\n",
    "sns.heatmap(df.corr(), annot = True)\n",
    "plt.show()"
   ]
  },
  {
   "cell_type": "markdown",
   "id": "1a60a4f0",
   "metadata": {},
   "source": [
    "To find which predictors are significant, we have to test H0:β1=0. All predictors have a p-value less than 0.05 except “chas”, so we may conclude that there is a statistically significant association between each predictor and the response except for the “chas” predictor in this particular case."
   ]
  },
  {
   "cell_type": "markdown",
   "id": "4abefd37",
   "metadata": {},
   "source": [
    "#### Q2 Fit a multiple regression model to predict the response using all of the predictors. Describe your results. For which predictors can we reject the null hypothesis H0:βj=0 ?"
   ]
  },
  {
   "cell_type": "code",
   "execution_count": 29,
   "id": "68ce1865",
   "metadata": {},
   "outputs": [
    {
     "data": {
      "text/plain": [
       "['Unnamed: 0',\n",
       " 'crim',\n",
       " 'zn',\n",
       " 'indus',\n",
       " 'chas',\n",
       " 'nox',\n",
       " 'rm',\n",
       " 'age',\n",
       " 'dis',\n",
       " 'rad',\n",
       " 'tax',\n",
       " 'ptratio',\n",
       " 'black',\n",
       " 'lstat',\n",
       " 'medv']"
      ]
     },
     "execution_count": 29,
     "metadata": {},
     "output_type": "execute_result"
    }
   ],
   "source": [
    "list(df.columns)"
   ]
  },
  {
   "cell_type": "code",
   "execution_count": 30,
   "id": "0bc2836c",
   "metadata": {},
   "outputs": [],
   "source": [
    "X = df[[\n",
    " 'zn',\n",
    " 'indus',\n",
    " 'chas',\n",
    " 'nox',\n",
    " 'rm',\n",
    " 'age',\n",
    " 'dis',\n",
    " 'rad',\n",
    " 'tax',\n",
    " 'ptratio',\n",
    " 'black',\n",
    " 'lstat',\n",
    " 'medv']] \n",
    "Y = df['crim']"
   ]
  },
  {
   "cell_type": "code",
   "execution_count": 31,
   "id": "4de530b5",
   "metadata": {},
   "outputs": [
    {
     "name": "stdout",
     "output_type": "stream",
     "text": [
      "                                 OLS Regression Results                                \n",
      "=======================================================================================\n",
      "Dep. Variable:                   crim   R-squared (uncentered):                   0.531\n",
      "Model:                            OLS   Adj. R-squared (uncentered):              0.518\n",
      "Method:                 Least Squares   F-statistic:                              42.91\n",
      "Date:                Fri, 29 Apr 2022   Prob (F-statistic):                    1.61e-72\n",
      "Time:                        21:05:17   Log-Likelihood:                         -1656.1\n",
      "No. Observations:                 506   AIC:                                      3338.\n",
      "Df Residuals:                     493   BIC:                                      3393.\n",
      "Df Model:                          13                                                  \n",
      "Covariance Type:            nonrobust                                                  \n",
      "==============================================================================\n",
      "                 coef    std err          t      P>|t|      [0.025      0.975]\n",
      "------------------------------------------------------------------------------\n",
      "zn             0.0443      0.019      2.353      0.019       0.007       0.081\n",
      "indus         -0.0760      0.084     -0.909      0.364      -0.240       0.088\n",
      "chas          -0.8053      1.185     -0.679      0.497      -3.134       1.524\n",
      "nox           -3.2638      4.363     -0.748      0.455     -11.837       5.309\n",
      "rm             1.1725      0.528      2.221      0.027       0.135       2.210\n",
      "age           -0.0020      0.018     -0.110      0.913      -0.037       0.033\n",
      "dis           -0.7157      0.258     -2.771      0.006      -1.223      -0.208\n",
      "rad            0.5235      0.084      6.230      0.000       0.358       0.689\n",
      "tax           -0.0020      0.005     -0.394      0.694      -0.012       0.008\n",
      "ptratio        0.0081      0.145      0.056      0.955      -0.276       0.292\n",
      "black         -0.0056      0.004     -1.567      0.118      -0.013       0.001\n",
      "lstat          0.1974      0.070      2.829      0.005       0.060       0.334\n",
      "medv          -0.1567      0.058     -2.699      0.007      -0.271      -0.043\n",
      "==============================================================================\n",
      "Omnibus:                      665.094   Durbin-Watson:                   1.512\n",
      "Prob(Omnibus):                  0.000   Jarque-Bera (JB):            82667.099\n",
      "Skew:                           6.600   Prob(JB):                         0.00\n",
      "Kurtosis:                      64.210   Cond. No.                     8.51e+03\n",
      "==============================================================================\n",
      "\n",
      "Notes:\n",
      "[1] R² is computed without centering (uncentered) since the model does not contain a constant.\n",
      "[2] Standard Errors assume that the covariance matrix of the errors is correctly specified.\n",
      "[3] The condition number is large, 8.51e+03. This might indicate that there are\n",
      "strong multicollinearity or other numerical problems.\n"
     ]
    }
   ],
   "source": [
    "model = sm.OLS(Y, X).fit()\n",
    "predictions = model.predict(X) \n",
    "\n",
    "print_model = model.summary()\n",
    "print(print_model)"
   ]
  },
  {
   "cell_type": "markdown",
   "id": "6ec7c18e",
   "metadata": {},
   "source": [
    "We may reject the null hypothesis for “zn”, “dis”, “rad”, “black” \"lstat\",and “medv”."
   ]
  },
  {
   "cell_type": "code",
   "execution_count": 40,
   "id": "035d1208",
   "metadata": {},
   "outputs": [],
   "source": [
    "X = df[[\n",
    " 'zn',\n",
    " 'dis',\n",
    " 'rad',\n",
    " 'black',\n",
    " 'lstat',\n",
    " 'medv']] \n",
    "Y = df['crim']"
   ]
  },
  {
   "cell_type": "code",
   "execution_count": 41,
   "id": "50b1739e",
   "metadata": {},
   "outputs": [
    {
     "name": "stdout",
     "output_type": "stream",
     "text": [
      "                                 OLS Regression Results                                \n",
      "=======================================================================================\n",
      "Dep. Variable:                   crim   R-squared (uncentered):                   0.522\n",
      "Model:                            OLS   Adj. R-squared (uncentered):              0.516\n",
      "Method:                 Least Squares   F-statistic:                              91.03\n",
      "Date:                Fri, 29 Apr 2022   Prob (F-statistic):                    6.06e-77\n",
      "Time:                        21:14:24   Log-Likelihood:                         -1660.8\n",
      "No. Observations:                 506   AIC:                                      3334.\n",
      "Df Residuals:                     500   BIC:                                      3359.\n",
      "Df Model:                           6                                                  \n",
      "Covariance Type:            nonrobust                                                  \n",
      "==============================================================================\n",
      "                 coef    std err          t      P>|t|      [0.025      0.975]\n",
      "------------------------------------------------------------------------------\n",
      "zn             0.0416      0.017      2.460      0.014       0.008       0.075\n",
      "dis           -0.3325      0.184     -1.811      0.071      -0.693       0.028\n",
      "rad            0.4958      0.039     12.622      0.000       0.419       0.573\n",
      "black         -0.0046      0.003     -1.456      0.146      -0.011       0.002\n",
      "lstat          0.2004      0.047      4.268      0.000       0.108       0.293\n",
      "medv          -0.0566      0.036     -1.585      0.114      -0.127       0.014\n",
      "==============================================================================\n",
      "Omnibus:                      677.679   Durbin-Watson:                   1.477\n",
      "Prob(Omnibus):                  0.000   Jarque-Bera (JB):            90630.091\n",
      "Skew:                           6.805   Prob(JB):                         0.00\n",
      "Kurtosis:                      67.136   Cond. No.                         236.\n",
      "==============================================================================\n",
      "\n",
      "Notes:\n",
      "[1] R² is computed without centering (uncentered) since the model does not contain a constant.\n",
      "[2] Standard Errors assume that the covariance matrix of the errors is correctly specified.\n"
     ]
    }
   ],
   "source": [
    "model = sm.OLS(Y, X).fit()\n",
    "predictions = model.predict(X) \n",
    "\n",
    "print_model = model.summary()\n",
    "print(print_model)"
   ]
  },
  {
   "cell_type": "markdown",
   "id": "f49b9a46",
   "metadata": {},
   "source": [
    "#### Q3 How do your results from (a) compare to your results from (b)? Create a plot displaying the univariate regression coefficients from (a) on the x-axis, and the multiple regression coefficients from (b) on the y-axis. That is, each predictor is displayed as a single point in the plot. Its coefficient in a simple linear regression model is shown on the x-axis, and its coefficient estimate in the multiple linear regression model is shown on the y-axis."
   ]
  },
  {
   "cell_type": "code",
   "execution_count": null,
   "id": "b85ea804",
   "metadata": {},
   "outputs": [],
   "source": []
  },
  {
   "cell_type": "markdown",
   "id": "89b5d922",
   "metadata": {},
   "source": [
    "#### Q4 Is there evidence of non-linear association between any of the predictors and the response ? To answer this question, for each predictor X, fit a model of the form"
   ]
  },
  {
   "cell_type": "code",
   "execution_count": null,
   "id": "a84ef1b7",
   "metadata": {},
   "outputs": [],
   "source": []
  }
 ],
 "metadata": {
  "kernelspec": {
   "display_name": "Python 3 (ipykernel)",
   "language": "python",
   "name": "python3"
  },
  "language_info": {
   "codemirror_mode": {
    "name": "ipython",
    "version": 3
   },
   "file_extension": ".py",
   "mimetype": "text/x-python",
   "name": "python",
   "nbconvert_exporter": "python",
   "pygments_lexer": "ipython3",
   "version": "3.8.8"
  }
 },
 "nbformat": 4,
 "nbformat_minor": 5
}
